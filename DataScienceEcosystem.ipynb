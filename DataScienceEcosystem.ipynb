{
 "cells": [
  {
   "cell_type": "markdown",
   "id": "cfa0d3fb-5564-444c-9fa0-32d4d0008991",
   "metadata": {},
   "source": [
    "#### **Exercise 2: Create markdown cell with title of the notebook**"
   ]
  },
  {
   "cell_type": "markdown",
   "id": "7ccdedab-a873-4396-81af-df9544bb9c71",
   "metadata": {},
   "source": [
    "# Data Science Tools and Ecosystem"
   ]
  },
  {
   "cell_type": "markdown",
   "id": "9fbb16c0-d282-43c8-936e-58294e70d42f",
   "metadata": {},
   "source": [
    "#### **Exercise 3 - Create a markdown cell for an introduction**"
   ]
  },
  {
   "cell_type": "markdown",
   "id": "7e4148a8-7fca-4c52-8661-88646a87ad30",
   "metadata": {},
   "source": [
    "### In this notebook, Data Science Tools and Ecosystem are summarized."
   ]
  },
  {
   "cell_type": "markdown",
   "id": "af368f07-5973-4dd7-8ec0-4b186358b9ab",
   "metadata": {},
   "source": [
    "**Objectives:**\n",
    "- **Data Management Tools -** Facilitates the storage, organization, and retrieval of data. Includes Relational Databases, NoSQL Databases, and Big Data platforms.\n",
    "- **Data Integration and Transformation Tools -** Streamlines data pipelines and automate data processing workflows. Task of data integration and transformation in the classic data warehousing world is to Extract, Transform, and Load (ETL).\n",
    "- **Data Visualization Tools -** Provides graphical representation of data and assist with communicating insights.\n",
    "- **Model Deployment, Monitoring and Assessment Tools -** Supports the building, deploying, monitoring, and evaluation of data and machine learning models.\n",
    "- **Data Asset Management Tools -** Organizes and manages data, enforce access controls, and ensure asset backups."
   ]
  },
  {
   "cell_type": "markdown",
   "id": "d5ad41e6-8949-4797-a663-6aea2bdacb7a",
   "metadata": {},
   "source": [
    "#### **Exercise 4 - Create a markdown cell to list data science languages**"
   ]
  },
  {
   "cell_type": "markdown",
   "id": "ee7e2083-7f5b-4594-a345-8195753e82e2",
   "metadata": {},
   "source": [
    "### Some of the popular languages that Data Scientists use are:\n",
    "1. Python\n",
    "2. R\n",
    "3. SQL\n",
    "4. C\n",
    "5. JAVA"
   ]
  },
  {
   "cell_type": "markdown",
   "id": "cbd587ca-f2ad-4cc1-88ad-ac9c944eb355",
   "metadata": {},
   "source": [
    "#### **Exercise 5 - Create a markdown cell to list data science libraries**"
   ]
  },
  {
   "cell_type": "markdown",
   "id": "7627eafd-95af-4a30-9826-71fae4faf0dc",
   "metadata": {},
   "source": [
    "### Some of the commonly used libraries used by Data Scientists include:\n",
    "1. Pandas\n",
    "2. Seaborn\n",
    "3. Scikit-Learn\n",
    "4. TensorFlow\n",
    "5. ggplot2"
   ]
  },
  {
   "cell_type": "markdown",
   "id": "cf86fbf1-f452-4c6f-893f-08340a783357",
   "metadata": {},
   "source": [
    "#### **Exercise 6 - Create a markdown cell with a table of Data Science tools**"
   ]
  },
  {
   "cell_type": "markdown",
   "id": "91fda293-ad42-4f27-a754-d2bc2715bd3a",
   "metadata": {},
   "source": [
    "| Data Science Tools | Uses |\n",
    "| ------------------ | ---- |\n",
    "| Jupyter IDE | Open-source effort that supports: Julia, Python, R, e.t.c, It creates and share documents containing: live code, equations, visualizations, narrative text. |\n",
    "| RStudio | Free and open-source IDE built to manage and execute R code. |\n",
    "| Anaconda Navigator | An Open-source GUI-based Navigator that supports Python development and integrates with: Microsoft Visual Studio Code (VS Code), PyCharm, Spyder, Python for Visual Studio Code e.t.c. |"
   ]
  },
  {
   "cell_type": "markdown",
   "id": "be5ce734-21f3-4942-8523-b8e037026140",
   "metadata": {},
   "source": [
    "#### **Exercise 7 - Create a markdown cell introducing arithmetic expression examples**"
   ]
  },
  {
   "cell_type": "markdown",
   "id": "def6ba63-1af7-4563-adb5-ede559d62141",
   "metadata": {},
   "source": [
    "### Below are a few examples of evaluating arithmetic expressions in Python"
   ]
  },
  {
   "cell_type": "markdown",
   "id": "8990beee-f10d-4857-9a4f-be5a5fa3e57b",
   "metadata": {},
   "source": [
    "#### **Exercise 8 - Create a code cell to multiply and add numbers**"
   ]
  },
  {
   "cell_type": "code",
   "execution_count": 18,
   "id": "92072ac2-034f-4779-8095-c9958a2aa429",
   "metadata": {},
   "outputs": [
    {
     "data": {
      "text/plain": [
       "17"
      ]
     },
     "execution_count": 18,
     "metadata": {},
     "output_type": "execute_result"
    }
   ],
   "source": [
    "# This a simple arithmetic expression to mutiply then add integers.\n",
    "\n",
    "(3*4)+5"
   ]
  },
  {
   "cell_type": "markdown",
   "id": "4a16ce31-e9d8-4de3-906e-c62f337d9308",
   "metadata": {},
   "source": [
    "#### **Exercise 9 - Create a code cell to convert minutes to hours**"
   ]
  },
  {
   "cell_type": "code",
   "execution_count": 30,
   "id": "ac123896-9ffd-4dc7-a0d8-dd96f8a85a26",
   "metadata": {},
   "outputs": [
    {
     "name": "stdout",
     "output_type": "stream",
     "text": [
      " 200 minutes is equal to 3.33 hours.\n"
     ]
    }
   ],
   "source": [
    "# This will convert 200 minutes to hours by diving by 60.\n",
    "\n",
    "minutes = 200\n",
    "\n",
    "hours = minutes / 60\n",
    "\n",
    "print(f\" {minutes} minutes is equal to {round(hours, 2)} hours.\") "
   ]
  },
  {
   "cell_type": "markdown",
   "id": "03315dc0-668d-4d51-a7a2-a0e45d7eead0",
   "metadata": {},
   "source": [
    "#### **Exercise 10 - Insert a markdown cell to list Objectives**"
   ]
  },
  {
   "cell_type": "markdown",
   "id": "0a88d5e1-b8b1-4fff-a45e-7e77afc21f00",
   "metadata": {},
   "source": [
    "### Some of the popular languages that Data Scientists use are:\n",
    "* Scala\n",
    "* Julia\n",
    "* Ruby\n",
    "* Visual Basic\n",
    "* JavaScript"
   ]
  },
  {
   "cell_type": "markdown",
   "id": "142f7678-8c85-42f3-a190-d05d7dcd1c90",
   "metadata": {},
   "source": [
    "#### **Exercise 11 - Create a markdown cell to indicate the Author's name**"
   ]
  },
  {
   "cell_type": "markdown",
   "id": "ba6dc910-b3a3-4c05-b591-2b57d390a13b",
   "metadata": {},
   "source": [
    "## Author\n",
    "Komolafe Fatai Abiodun"
   ]
  }
 ],
 "metadata": {
  "kernelspec": {
   "display_name": "anaconda-ai-2024.04-py310",
   "language": "python",
   "name": "conda-env-anaconda-ai-2024.04-py310-py"
  },
  "language_info": {
   "codemirror_mode": {
    "name": "ipython",
    "version": 3
   },
   "file_extension": ".py",
   "mimetype": "text/x-python",
   "name": "python",
   "nbconvert_exporter": "python",
   "pygments_lexer": "ipython3",
   "version": "3.10.13"
  }
 },
 "nbformat": 4,
 "nbformat_minor": 5
}
